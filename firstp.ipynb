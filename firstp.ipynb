{
 "cells": [
  {
   "cell_type": "code",
   "execution_count": 1,
   "metadata": {},
   "outputs": [
    {
     "name": "stdout",
     "output_type": "stream",
     "text": [
      "Selected Data Source:\n",
      "      Sorry_end  Ignore_diff  begin_correct  Contact  Special_time  \\\n",
      "0            2            2              4        1             0   \n",
      "1            4            4              4        4             4   \n",
      "2            2            2              2        2             1   \n",
      "3            3            2              3        2             3   \n",
      "4            2            2              1        1             1   \n",
      "..         ...          ...            ...      ...           ...   \n",
      "165          0            0              0        0             0   \n",
      "166          0            0              0        0             0   \n",
      "167          1            1              0        0             0   \n",
      "168          0            0              0        0             0   \n",
      "169          0            0              0        0             0   \n",
      "\n",
      "     No_home_time  2_strangers  enjoy_holiday  enjoy_travel  common_goals  \\\n",
      "0               0            0              0             0             0   \n",
      "1               0            0              4             4             4   \n",
      "2               3            2              1             1             2   \n",
      "3               3            3              3             3             3   \n",
      "4               1            0              0             0             0   \n",
      "..            ...          ...            ...           ...           ...   \n",
      "165             0            0              0             0             0   \n",
      "166             0            0              0             0             0   \n",
      "167             0            0              0             0             1   \n",
      "168             0            0              0             0             0   \n",
      "169             0            0              1             0             0   \n",
      "\n",
      "     ...  silence_for_harm  silence_fear_anger  I'm_right  accusations  \\\n",
      "0    ...                 2                   1          3            3   \n",
      "1    ...                 2                   2          3            4   \n",
      "2    ...                 3                   2          3            1   \n",
      "3    ...                 2                   2          3            3   \n",
      "4    ...                 2                   1          2            3   \n",
      "..   ...               ...                 ...        ...          ...   \n",
      "165  ...                 1                   0          4            1   \n",
      "166  ...                 4                   1          2            2   \n",
      "167  ...                 3                   0          2            0   \n",
      "168  ...                 3                   3          2            2   \n",
      "169  ...                 3                   4          4            0   \n",
      "\n",
      "     I'm_not_guilty  I'm_not_wrong  no_hesitancy_inadequate  \\\n",
      "0                 3              2                        3   \n",
      "1                 4              4                        4   \n",
      "2                 1              1                        2   \n",
      "3                 3              3                        2   \n",
      "4                 2              2                        2   \n",
      "..              ...            ...                      ...   \n",
      "165               1              4                        2   \n",
      "166               2              2                        3   \n",
      "167               1              1                        3   \n",
      "168               3              2                        4   \n",
      "169               1              3                        3   \n",
      "\n",
      "     you're_inadequate  incompetence  Divorce_Y_N  \n",
      "0                    2             1            1  \n",
      "1                    2             2            1  \n",
      "2                    2             2            1  \n",
      "3                    2             2            1  \n",
      "4                    1             0            1  \n",
      "..                 ...           ...          ...  \n",
      "165                  2             2            0  \n",
      "166                  2             2            0  \n",
      "167                  0             0            0  \n",
      "168                  3             1            0  \n",
      "169                  3             1            0  \n",
      "\n",
      "[170 rows x 55 columns]\n"
     ]
    }
   ],
   "source": [
    "#select necesary libraries\n",
    "import numpy as np\n",
    "from sklearn.metrics import accuracy_score\n",
    "import pandas as pd\n",
    "from sklearn import preprocessing\n",
    "from sklearn.model_selection import train_test_split\n",
    "from sklearn.preprocessing import Normalizer\n",
    "from sklearn.decomposition import PCA\n",
    "#the target data\n",
    "path='C:/coding/divorce.csv'\n",
    "Data=pd.read_csv(path)\n",
    "print(\"Selected Data Source:\\n\",Data)"
   ]
  }
 ],
 "metadata": {
  "kernelspec": {
   "display_name": "base",
   "language": "python",
   "name": "python3"
  },
  "language_info": {
   "codemirror_mode": {
    "name": "ipython",
    "version": 3
   },
   "file_extension": ".py",
   "mimetype": "text/x-python",
   "name": "python",
   "nbconvert_exporter": "python",
   "pygments_lexer": "ipython3",
   "version": "3.11.7"
  }
 },
 "nbformat": 4,
 "nbformat_minor": 2
}
